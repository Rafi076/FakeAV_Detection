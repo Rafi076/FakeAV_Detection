{
  "nbformat": 4,
  "nbformat_minor": 0,
  "metadata": {
    "colab": {
      "provenance": [],
      "authorship_tag": "ABX9TyNwvt6BUhzGRKaR75wxkI3f",
      "include_colab_link": true
    },
    "kernelspec": {
      "name": "python3",
      "display_name": "Python 3"
    },
    "language_info": {
      "name": "python"
    }
  },
  "cells": [
    {
      "cell_type": "markdown",
      "metadata": {
        "id": "view-in-github",
        "colab_type": "text"
      },
      "source": [
        "<a href=\"https://colab.research.google.com/github/Rafi076/FakeAV_Detection/blob/main/FakeAV.ipynb\" target=\"_parent\"><img src=\"https://colab.research.google.com/assets/colab-badge.svg\" alt=\"Open In Colab\"/></a>"
      ]
    },
    {
      "cell_type": "code",
      "execution_count": 1,
      "metadata": {
        "colab": {
          "base_uri": "https://localhost:8080/"
        },
        "id": "tRUatEHTYxIG",
        "outputId": "b1c341dc-f570-4ce3-f574-4996e52cf391"
      },
      "outputs": [
        {
          "output_type": "stream",
          "name": "stdout",
          "text": [
            "Cloning into 'FakeAV_Detection'...\n",
            "warning: You appear to have cloned an empty repository.\n"
          ]
        }
      ],
      "source": [
        "!git clone https://github.com/Rafi076/FakeAV_Detection.git"
      ]
    },
    {
      "cell_type": "code",
      "source": [
        "# STEP 1: Mount Google Drive\n",
        "from google.colab import drive\n",
        "drive.mount('/content/drive')\n"
      ],
      "metadata": {
        "colab": {
          "base_uri": "https://localhost:8080/"
        },
        "id": "UKL1flGNbFID",
        "outputId": "84f76acb-793e-4df2-e91d-9cd159e79cea"
      },
      "execution_count": 2,
      "outputs": [
        {
          "output_type": "stream",
          "name": "stdout",
          "text": [
            "Mounted at /content/drive\n"
          ]
        }
      ]
    },
    {
      "cell_type": "code",
      "source": [
        "# STEP 2: Correct zip path (case-sensitive, and spelling checked)\n",
        "zip_path = '/content/drive/MyDrive/FakeAVC_Re_Datsets/FakeAVC_reduceData.zip'\n",
        "extract_to = '/content'  # Since zip already has a folder inside, extract to /content\n",
        "\n",
        "# STEP 3: Unzip\n",
        "import zipfile, os\n",
        "\n",
        "with zipfile.ZipFile(zip_path, 'r') as zip_ref:\n",
        "    zip_ref.extractall(extract_to)\n",
        "\n",
        "print(\"✅ Unzipped successfully!\")\n"
      ],
      "metadata": {
        "colab": {
          "base_uri": "https://localhost:8080/"
        },
        "id": "UnT2xV-4borB",
        "outputId": "34785ad5-816c-473a-880d-c9f20b14bf08"
      },
      "execution_count": 3,
      "outputs": [
        {
          "output_type": "stream",
          "name": "stdout",
          "text": [
            "✅ Unzipped successfully!\n"
          ]
        }
      ]
    },
    {
      "cell_type": "code",
      "source": [
        "# This should show the 4 main folders\n",
        "!ls /content/FakeAVC_reduceData\n"
      ],
      "metadata": {
        "colab": {
          "base_uri": "https://localhost:8080/"
        },
        "id": "-wi3HYANeMHP",
        "outputId": "c2f04f4e-64a9-48d9-ab1f-aaeda782e4e4"
      },
      "execution_count": 4,
      "outputs": [
        {
          "output_type": "stream",
          "name": "stdout",
          "text": [
            "FakeVideo-FakeAudio  meta_data.csv  RealVideo-FakeAudio\n",
            "FakeVideo-RealAudio  README.txt     RealVideo-RealAudio\n"
          ]
        }
      ]
    },
    {
      "cell_type": "code",
      "source": [
        "!ls /content/FakeAVC_reduceData/FakeVideo-FakeAudio"
      ],
      "metadata": {
        "colab": {
          "base_uri": "https://localhost:8080/"
        },
        "id": "N6w2cszwehMF",
        "outputId": "1dec166d-62a1-4f8a-8125-50518f944cfc"
      },
      "execution_count": 5,
      "outputs": [
        {
          "output_type": "stream",
          "name": "stdout",
          "text": [
            " African\t'Asian (South)'\t\t'Caucasian (European)'\n",
            "'Asian (East)'\t'Caucasian (American)'\n"
          ]
        }
      ]
    },
    {
      "cell_type": "code",
      "source": [
        "import os\n",
        "\n",
        "# Set root path of your extracted dataset\n",
        "root_dir = '/content/FakeAVC_reduceData'\n",
        "\n",
        "# Define valid video extensions\n",
        "video_extensions = ('.mp4', '.avi', '.mov', '.mkv')\n",
        "\n",
        "# Walk through the directory and count video files\n",
        "video_count = 0\n",
        "for root, dirs, files in os.walk(root_dir):\n",
        "    for file in files:\n",
        "        if file.lower().endswith(video_extensions):\n",
        "            video_count += 1\n",
        "\n",
        "print(f\"🎥 Total number of video files: {video_count}\")\n"
      ],
      "metadata": {
        "colab": {
          "base_uri": "https://localhost:8080/"
        },
        "id": "ia0TQvRVehty",
        "outputId": "ad08c4d4-64ce-4996-edb4-e55b6a934c4d"
      },
      "execution_count": 6,
      "outputs": [
        {
          "output_type": "stream",
          "name": "stdout",
          "text": [
            "🎥 Total number of video files: 285\n"
          ]
        }
      ]
    }
  ]
}